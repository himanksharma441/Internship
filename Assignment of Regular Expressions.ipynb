{
 "cells": [
  {
   "cell_type": "code",
   "execution_count": 43,
   "id": "c88b435c",
   "metadata": {},
   "outputs": [],
   "source": [
    "import regex as re"
   ]
  },
  {
   "cell_type": "markdown",
   "id": "91b4f18e",
   "metadata": {},
   "source": [
    "Question 1- Write a Python program to check that a string contains only a certain set of characters (in this case a-z, A-Z and 0-9)."
   ]
  },
  {
   "cell_type": "code",
   "execution_count": 44,
   "id": "4f05a2e0",
   "metadata": {},
   "outputs": [
    {
     "name": "stdout",
     "output_type": "stream",
     "text": [
      "True\n"
     ]
    }
   ],
   "source": [
    "pattern=\"^[A-Za-z0-9_-]*$\"\n",
    "string = \"Hey_my_n9me_i5_Him6anK\"\n",
    "result=bool(re.match(pattern, string))\n",
    "print(result)"
   ]
  },
  {
   "cell_type": "code",
   "execution_count": 45,
   "id": "02f83c24",
   "metadata": {},
   "outputs": [
    {
     "name": "stdout",
     "output_type": "stream",
     "text": [
      "False\n"
     ]
    }
   ],
   "source": [
    "pattern=\"^[A-Za-z0-9_-]*$\"\n",
    "string = \"Hey_my_n@me_i5_Him@anK\"\n",
    "result=bool(re.match(pattern, string))\n",
    "print(result)"
   ]
  },
  {
   "cell_type": "markdown",
   "id": "e89f91c6",
   "metadata": {},
   "source": [
    "Question 2- Create a function in python that matches a string that has an a followed by zero or more b's"
   ]
  },
  {
   "cell_type": "code",
   "execution_count": 46,
   "id": "eecb03af",
   "metadata": {},
   "outputs": [
    {
     "name": "stdout",
     "output_type": "stream",
     "text": [
      "Yes\n",
      "No\n"
     ]
    }
   ],
   "source": [
    "def text(string1):\n",
    "        pattern1='^a(b*)$'\n",
    "        if re.search(pattern1, string1):\n",
    "                return('Yes')\n",
    "        else:\n",
    "                return('No')\n",
    "\n",
    "print(text(\"abbb\"))\n",
    "print(text(\"ac\"))"
   ]
  },
  {
   "cell_type": "markdown",
   "id": "45374cc5",
   "metadata": {},
   "source": [
    "Question 3-  Create a function in python that matches a string that has an a followed by one or more b's"
   ]
  },
  {
   "cell_type": "code",
   "execution_count": 47,
   "id": "bce8b775",
   "metadata": {},
   "outputs": [
    {
     "name": "stdout",
     "output_type": "stream",
     "text": [
      "Yes\n",
      "Yes\n"
     ]
    }
   ],
   "source": [
    "def text1(string2):\n",
    "        pattern2='ab+?'\n",
    "        if re.search(pattern2, string2):\n",
    "                return('Yes')\n",
    "        else:\n",
    "                return('No')\n",
    "\n",
    "print(text1(\"ab\"))\n",
    "print(text1(\"abc\"))"
   ]
  },
  {
   "cell_type": "markdown",
   "id": "d00fc4cd",
   "metadata": {},
   "source": [
    "Question 4- Create a function in Python and use RegEx that matches a string that has an a followed by zero or one 'b'."
   ]
  },
  {
   "cell_type": "code",
   "execution_count": 48,
   "id": "347857eb",
   "metadata": {},
   "outputs": [
    {
     "name": "stdout",
     "output_type": "stream",
     "text": [
      "Yes\n",
      "Yes\n",
      "Yes\n"
     ]
    }
   ],
   "source": [
    "def text2(string3):\n",
    "        pattern3='ab?'\n",
    "        if re.search(pattern3, string3):\n",
    "                return('Yes')\n",
    "        else:\n",
    "                return('No')\n",
    "\n",
    "print(text2(\"ab\"))\n",
    "print(text2(\"abc\"))\n",
    "print(text2(\"aabbc\"))"
   ]
  },
  {
   "cell_type": "markdown",
   "id": "766dc70a",
   "metadata": {},
   "source": [
    "Question 5- Write a Python program that matches a string that has an a followed by three 'b'."
   ]
  },
  {
   "cell_type": "code",
   "execution_count": 49,
   "id": "4fad9955",
   "metadata": {},
   "outputs": [
    {
     "name": "stdout",
     "output_type": "stream",
     "text": [
      "Yes\n"
     ]
    }
   ],
   "source": [
    "string4=\"abbb\"\n",
    "pattern4='ab{3}?'\n",
    "if re.search(pattern4, string4):\n",
    "    print('Yes')\n",
    "else:\n",
    "    print('No')"
   ]
  },
  {
   "cell_type": "code",
   "execution_count": 50,
   "id": "1581ddb3",
   "metadata": {},
   "outputs": [
    {
     "name": "stdout",
     "output_type": "stream",
     "text": [
      "No\n"
     ]
    }
   ],
   "source": [
    "string4=\"abbc\"\n",
    "pattern4='ab{3}?'\n",
    "if re.search(pattern4, string4):\n",
    "    print('Yes')\n",
    "else:\n",
    "    print('No')"
   ]
  },
  {
   "cell_type": "markdown",
   "id": "1ed7bfd6",
   "metadata": {},
   "source": [
    "Question 6- Write a regular expression in Python to split a string into uppercase letters.\n",
    "Sample text: “ImportanceOfRegularExpressionsInPython”\n",
    "Output: [‘Importance’, ‘Of’, ‘Regular’, ‘Expression’, ‘In’, ‘Python’]\n"
   ]
  },
  {
   "cell_type": "code",
   "execution_count": 51,
   "id": "e5a0ed30",
   "metadata": {},
   "outputs": [
    {
     "name": "stdout",
     "output_type": "stream",
     "text": [
      "['Importance', 'Of', 'Regular', 'Expressions', 'In', 'Python']\n"
     ]
    }
   ],
   "source": [
    "string5=\"ImportanceOfRegularExpressionsInPython\"\n",
    "pattern5=re.findall('[A-Z][^A-Z]*', string5)\n",
    "print(pattern5)"
   ]
  },
  {
   "cell_type": "markdown",
   "id": "ceec6b44",
   "metadata": {},
   "source": [
    "Question 7- Write a Python program that matches a string that has an a followed by two to three 'b'."
   ]
  },
  {
   "cell_type": "code",
   "execution_count": 52,
   "id": "964dbe14",
   "metadata": {},
   "outputs": [
    {
     "name": "stdout",
     "output_type": "stream",
     "text": [
      "No\n"
     ]
    }
   ],
   "source": [
    "string6=\"aab\"\n",
    "pattern6='ab{2,3}?'\n",
    "if re.search(pattern6, string6):\n",
    "    print('Yes')\n",
    "else:\n",
    "    print('No')"
   ]
  },
  {
   "cell_type": "code",
   "execution_count": 53,
   "id": "eccb2552",
   "metadata": {},
   "outputs": [
    {
     "name": "stdout",
     "output_type": "stream",
     "text": [
      "Yes\n"
     ]
    }
   ],
   "source": [
    "string6=\"aabbb\"\n",
    "pattern6='ab{2,3}?'\n",
    "if re.search(pattern6, string6):\n",
    "    print('Yes')\n",
    "else:\n",
    "    print('No')"
   ]
  },
  {
   "cell_type": "markdown",
   "id": "813e4e0e",
   "metadata": {},
   "source": [
    "Question 8- Write a Python program to find sequences of lowercase letters joined with a underscore."
   ]
  },
  {
   "cell_type": "code",
   "execution_count": 54,
   "id": "ca0cb235",
   "metadata": {},
   "outputs": [
    {
     "name": "stdout",
     "output_type": "stream",
     "text": [
      "Yes\n"
     ]
    }
   ],
   "source": [
    "string7=\"abcd_ef\"\n",
    "pattern7='^[a-z]+_[a-z]+$'\n",
    "if re.search(pattern7, string7):\n",
    "    print('Yes')\n",
    "else:\n",
    "    print('No')"
   ]
  },
  {
   "cell_type": "code",
   "execution_count": 55,
   "id": "dd051d03",
   "metadata": {},
   "outputs": [
    {
     "name": "stdout",
     "output_type": "stream",
     "text": [
      "No\n"
     ]
    }
   ],
   "source": [
    "string7=\"aBcD_ef\"\n",
    "pattern7='^[a-z]+_[a-z]+$'\n",
    "if re.search(pattern7, string7):\n",
    "    print('Yes')\n",
    "else:\n",
    "    print('No')"
   ]
  },
  {
   "cell_type": "markdown",
   "id": "5a2bf756",
   "metadata": {},
   "source": [
    "Question 9- Write a Python program that matches a string that has an 'a' followed by anything, ending in 'b'."
   ]
  },
  {
   "cell_type": "code",
   "execution_count": 56,
   "id": "b8f1afd6",
   "metadata": {},
   "outputs": [
    {
     "name": "stdout",
     "output_type": "stream",
     "text": [
      "No\n"
     ]
    }
   ],
   "source": [
    "string8=\"abcdefghij\"\n",
    "pattern8='a.*?b$'\n",
    "if re.search(pattern8, string8):\n",
    "    print('Yes')\n",
    "else:\n",
    "    print('No')"
   ]
  },
  {
   "cell_type": "code",
   "execution_count": 57,
   "id": "830eb76f",
   "metadata": {},
   "outputs": [
    {
     "name": "stdout",
     "output_type": "stream",
     "text": [
      "Yes\n"
     ]
    }
   ],
   "source": [
    "string8=\"abcdefghib\"\n",
    "pattern8='a.*?b$'\n",
    "if re.search(pattern8, string8):\n",
    "    print('Yes')\n",
    "else:\n",
    "    print('No')"
   ]
  },
  {
   "cell_type": "markdown",
   "id": "7882c68a",
   "metadata": {},
   "source": [
    "Question 10- Write a Python program that matches a word at the beginning of a string."
   ]
  },
  {
   "cell_type": "code",
   "execution_count": 58,
   "id": "7d80758c",
   "metadata": {},
   "outputs": [
    {
     "name": "stdout",
     "output_type": "stream",
     "text": [
      "Yes\n"
     ]
    }
   ],
   "source": [
    "string9=\"The bus was completely full, and lots of people were standing.\"\n",
    "pattern9='^\\w+'\n",
    "if re.search(pattern9, string9):\n",
    "    print('Yes')\n",
    "else:\n",
    "    print('No')"
   ]
  },
  {
   "cell_type": "code",
   "execution_count": 59,
   "id": "7c50e9e6",
   "metadata": {},
   "outputs": [
    {
     "name": "stdout",
     "output_type": "stream",
     "text": [
      "No\n"
     ]
    }
   ],
   "source": [
    "string9=\" The bus was completely full, and lots of people were standing.\"\n",
    "pattern9='^\\w+'\n",
    "if re.search(pattern9, string9):\n",
    "    print('Yes')\n",
    "else:\n",
    "    print('No')"
   ]
  },
  {
   "cell_type": "markdown",
   "id": "2abd1ad5",
   "metadata": {},
   "source": [
    "Question 11- Write a Python program to match a string that contains only upper and lowercase letters, numbers, and underscores."
   ]
  },
  {
   "cell_type": "code",
   "execution_count": 60,
   "id": "f424cb62",
   "metadata": {},
   "outputs": [
    {
     "name": "stdout",
     "output_type": "stream",
     "text": [
      "No\n"
     ]
    }
   ],
   "source": [
    "string10=\"He wanted to bring peace to his kingdom.\"\n",
    "pattern10='^[a-zA-Z0-9_]*$'\n",
    "if re.search(pattern10, string10):\n",
    "    print('Yes')\n",
    "else:\n",
    "    print('No')"
   ]
  },
  {
   "cell_type": "code",
   "execution_count": 61,
   "id": "077ad8cc",
   "metadata": {},
   "outputs": [
    {
     "name": "stdout",
     "output_type": "stream",
     "text": [
      "Yes\n"
     ]
    }
   ],
   "source": [
    "string10=\"Regular_Expressions_1\"\n",
    "pattern10='^[a-zA-Z0-9_]*$'\n",
    "if re.search(pattern10, string10):\n",
    "    print('Yes')\n",
    "else:\n",
    "    print('No')"
   ]
  },
  {
   "cell_type": "markdown",
   "id": "8a498e95",
   "metadata": {},
   "source": [
    "Question 12- Write a Python program where a string will start with a specific number. "
   ]
  },
  {
   "cell_type": "code",
   "execution_count": 62,
   "id": "98a18fd0",
   "metadata": {},
   "outputs": [
    {
     "name": "stdout",
     "output_type": "stream",
     "text": [
      "True\n"
     ]
    }
   ],
   "source": [
    "string11='5-2345861'\n",
    "pattern11=re.compile(r\"^5\")\n",
    "if pattern11.match(string11):\n",
    "    print('True')\n",
    "else:\n",
    "    print('False')"
   ]
  },
  {
   "cell_type": "code",
   "execution_count": 63,
   "id": "7fe6faab",
   "metadata": {},
   "outputs": [
    {
     "name": "stdout",
     "output_type": "stream",
     "text": [
      "False\n"
     ]
    }
   ],
   "source": [
    "string11='6-2145861'\n",
    "pattern11=re.compile(r\"^5\")\n",
    "if pattern11.match(string11):\n",
    "    print('True')\n",
    "else:\n",
    "    print('False')"
   ]
  },
  {
   "cell_type": "markdown",
   "id": "e694726c",
   "metadata": {},
   "source": [
    "Question 13-Write a Python program to remove leading zeros from an IP address"
   ]
  },
  {
   "cell_type": "code",
   "execution_count": 64,
   "id": "55003015",
   "metadata": {},
   "outputs": [
    {
     "name": "stdout",
     "output_type": "stream",
     "text": [
      "198.15.16.82\n"
     ]
    }
   ],
   "source": [
    "string12=\"198.015.016.082\"\n",
    "pattern12=re.sub('\\.[0]*', '.', string12)\n",
    "print(pattern12)"
   ]
  },
  {
   "cell_type": "markdown",
   "id": "742aefb5",
   "metadata": {},
   "source": [
    "Question 14- Write a regular expression in python to match a date string in the form of Month name followed by day number and year stored in a text file.\n",
    "Sample text : ' On August 15th 1947 that India was declared independent from British colonialism, and the reins of control were handed over to the leaders of the Country’.\n",
    "Output- August 15th 1947\n",
    "Hint- Use re.match() method here\n"
   ]
  },
  {
   "cell_type": "code",
   "execution_count": 65,
   "id": "56459467",
   "metadata": {},
   "outputs": [
    {
     "name": "stdout",
     "output_type": "stream",
     "text": [
      "August 15th 1947\n"
     ]
    }
   ],
   "source": [
    "with open(\"sample.txt\") as file:\n",
    "    for string13 in file:\n",
    "        pattern13=re.search(\"August 15th 1947\", string13)\n",
    "        print(pattern13.group())"
   ]
  },
  {
   "cell_type": "markdown",
   "id": "612269c4",
   "metadata": {},
   "source": [
    "Question 15- Write a Python program to search some literals strings in a string. Go to the editor\n",
    "Sample text : 'The quick brown fox jumps over the lazy dog.'\n",
    "Searched words : 'fox', 'dog', 'horse'\n"
   ]
  },
  {
   "cell_type": "code",
   "execution_count": 66,
   "id": "e666082e",
   "metadata": {},
   "outputs": [
    {
     "name": "stdout",
     "output_type": "stream",
     "text": [
      "The quick brown fox jumps over the lazy dog = Yes\n"
     ]
    }
   ],
   "source": [
    "string14=\"The quick brown fox jumps over the lazy dog.\" \n",
    "pattern14='fox|dog|horse'\n",
    "if re.search(pattern14, string14):\n",
    "    print(\"The quick brown fox jumps over the lazy dog =\",'Yes')\n",
    "else:\n",
    "    print(\"The quick brown fox jumps over the lazy dog =\",'No')"
   ]
  },
  {
   "cell_type": "markdown",
   "id": "7d2932b9",
   "metadata": {},
   "source": [
    "Question 16- Write a Python program to search a literals string in a string and also find the location within the original string where the pattern occurs\n",
    "Sample text : 'The quick brown fox jumps over the lazy dog.'\n",
    "Searched words : 'fox'\n"
   ]
  },
  {
   "cell_type": "code",
   "execution_count": 67,
   "id": "fa168cf0",
   "metadata": {},
   "outputs": [
    {
     "name": "stdout",
     "output_type": "stream",
     "text": [
      "<regex.Match object; span=(16, 19), match='fox'>\n"
     ]
    }
   ],
   "source": [
    "string15='The quick brown fox jumps over the lazy dog.'\n",
    "pattern15=re.search(\"fox\", string15)\n",
    "print(pattern15)"
   ]
  },
  {
   "cell_type": "markdown",
   "id": "5b545358",
   "metadata": {},
   "source": [
    "Question 17- Write a Python program to find the substrings within a string.\n",
    "Sample text : 'Python exercises, PHP exercises, C# exercises'\n",
    "Pattern : 'exercises'.\n"
   ]
  },
  {
   "cell_type": "code",
   "execution_count": 68,
   "id": "807fc900",
   "metadata": {},
   "outputs": [
    {
     "name": "stdout",
     "output_type": "stream",
     "text": [
      "['exercises', 'exercises', 'exercises']\n"
     ]
    }
   ],
   "source": [
    "string16=['Python exercises,PHP exercises,C# exercises']\n",
    "for pattern16 in string16:\n",
    "    answer2=re.findall(\"exercises\", pattern16)\n",
    "    print(answer2)"
   ]
  },
  {
   "cell_type": "markdown",
   "id": "98c3ceaa",
   "metadata": {},
   "source": [
    "Question 18- Write a Python program to find the occurrence and position of the substrings within a string."
   ]
  },
  {
   "cell_type": "code",
   "execution_count": 69,
   "id": "67b28947",
   "metadata": {},
   "outputs": [
    {
     "name": "stdout",
     "output_type": "stream",
     "text": [
      "<regex.Match object; span=(7, 16), match='exercises'>\n",
      "<regex.Match object; span=(4, 13), match='exercises'>\n",
      "<regex.Match object; span=(3, 12), match='exercises'>\n"
     ]
    }
   ],
   "source": [
    "string17=['Python exercises','PHP exercises','C# exercises']\n",
    "for pattern17 in string17:\n",
    "    answer3=re.search(\"exercises\", pattern17)\n",
    "    print(answer3)"
   ]
  },
  {
   "cell_type": "markdown",
   "id": "21463631",
   "metadata": {},
   "source": [
    "Question 19- Write a Python program to convert a date of yyyy-mm-dd format to dd-mm-yyyy format."
   ]
  },
  {
   "cell_type": "code",
   "execution_count": 70,
   "id": "bb45e659",
   "metadata": {},
   "outputs": [
    {
     "name": "stdout",
     "output_type": "stream",
     "text": [
      "Original date in YYY-MM-DD Format:  2026-01-02\n",
      "New date in DD-MM-YYYY Format:  02-01-2026\n"
     ]
    }
   ],
   "source": [
    "string18=\"2026-01-02\"\n",
    "pattern18=re.sub(r'(\\d{4})-(\\d{2})-(\\d{2})', '\\\\3-\\\\2-\\\\1', string18)\n",
    "print(\"Original date in YYY-MM-DD Format: \",string18)\n",
    "print(\"New date in DD-MM-YYYY Format: \",pattern18)"
   ]
  },
  {
   "cell_type": "markdown",
   "id": "28eb9901",
   "metadata": {},
   "source": [
    "Question 20- Write a Python program to find all words starting with 'a' or 'e' in a given string."
   ]
  },
  {
   "cell_type": "code",
   "execution_count": 71,
   "id": "9e7f350c",
   "metadata": {},
   "outputs": [
    {
     "name": "stdout",
     "output_type": "stream",
     "text": [
      "['andidates', 'either', 'ey', 'an', 'ellowship', 'al', 'enclosing', 'an', 'application']\n"
     ]
    }
   ],
   "source": [
    "string19=\"Candidates for either the Woolley or the Horsman 70 Fellowship should write to the Principal enclosing for an application form.\"\n",
    "pattern19=re.findall(\"[ae]\\w+\", string19)\n",
    "print(pattern19)"
   ]
  },
  {
   "cell_type": "markdown",
   "id": "c7d23970",
   "metadata": {},
   "source": [
    "Question 21- Write a Python program to separate and print the numbers and their position of a given string."
   ]
  },
  {
   "cell_type": "code",
   "execution_count": 72,
   "id": "3d8d246c",
   "metadata": {},
   "outputs": [
    {
     "name": "stdout",
     "output_type": "stream",
     "text": [
      "70\n",
      "<regex.Match object; span=(49, 51), match='70'>\n"
     ]
    }
   ],
   "source": [
    "string20=\"Candidates for either the Woolley or the Horsman 70 Fellowship should write to the Principal enclosing for an application form.\"\n",
    "pattern20=re.finditer(\"\\d+\", string20)\n",
    "for answer4 in pattern20:\n",
    "    print(answer4.group())\n",
    "    print(answer4)"
   ]
  },
  {
   "cell_type": "markdown",
   "id": "3ef394ca",
   "metadata": {},
   "source": [
    "Question 22- Write a regular expression in python program to extract maximum numeric value from a string"
   ]
  },
  {
   "cell_type": "code",
   "execution_count": 73,
   "id": "db3b7084",
   "metadata": {},
   "outputs": [
    {
     "name": "stdout",
     "output_type": "stream",
     "text": [
      "Max_value: 400\n"
     ]
    }
   ],
   "source": [
    "string21='Nearly 400 people were interrogated, 160 were detained and charged.'\n",
    "pattern21=re.findall('\\d+', string21)\n",
    "print(\"Max_value:\",max(pattern21))"
   ]
  },
  {
   "cell_type": "markdown",
   "id": "56d1ae6d",
   "metadata": {},
   "source": [
    "Question 23- Write a Regex in Python to put spaces between words starting with capital letters"
   ]
  },
  {
   "cell_type": "code",
   "execution_count": 74,
   "id": "c9d43be8",
   "metadata": {},
   "outputs": [
    {
     "name": "stdout",
     "output_type": "stream",
     "text": [
      "Importance Of Regular Expressions In Python\n"
     ]
    }
   ],
   "source": [
    "string22=\"ImportanceOfRegularExpressionsInPython\"\n",
    "pattern22=re.sub(r\"(\\w)([A-Z])\", r\"\\1 \\2\", string22)\n",
    "print(pattern22)"
   ]
  },
  {
   "cell_type": "markdown",
   "id": "a2b729bf",
   "metadata": {},
   "source": [
    "Question 24- Python regex to find sequences of one upper case letter followed by lower case letters"
   ]
  },
  {
   "cell_type": "code",
   "execution_count": 75,
   "id": "8b6f794a",
   "metadata": {},
   "outputs": [
    {
     "name": "stdout",
     "output_type": "stream",
     "text": [
      "Yes\n"
     ]
    }
   ],
   "source": [
    "string23=\"AbCdEf\"\n",
    "pattern23='[A-Z]+[a-z]+$'\n",
    "if re.search(pattern23, string23):\n",
    "    print('Yes')\n",
    "else:\n",
    "    print('No')"
   ]
  },
  {
   "cell_type": "code",
   "execution_count": 76,
   "id": "fc4beaed",
   "metadata": {},
   "outputs": [
    {
     "name": "stdout",
     "output_type": "stream",
     "text": [
      "No\n"
     ]
    }
   ],
   "source": [
    "string23=\"abcdef\"\n",
    "pattern23='[A-Z]+[a-z]+$'\n",
    "if re.search(pattern23, string23):\n",
    "    print('Yes')\n",
    "else:\n",
    "    print('No')"
   ]
  },
  {
   "cell_type": "markdown",
   "id": "c0c671d0",
   "metadata": {},
   "source": [
    "Question 25- Write a Python program to remove duplicate words from Sentence using Regular Expression"
   ]
  },
  {
   "cell_type": "code",
   "execution_count": 77,
   "id": "52c2bfce",
   "metadata": {},
   "outputs": [
    {
     "name": "stdout",
     "output_type": "stream",
     "text": [
      "Ram went to his home\n"
     ]
    }
   ],
   "source": [
    "string24=\"Ram went went to to his home\"\n",
    "pattern24=r'\\b(\\w+)(?:\\W+\\1\\b)+'\n",
    "answer5=re.sub(pattern24, r'\\1', string24)\n",
    "print(answer5)"
   ]
  },
  {
   "cell_type": "markdown",
   "id": "508eb0f8",
   "metadata": {},
   "source": [
    "Question 26- Write a python program using RegEx to accept string ending with alphanumeric character."
   ]
  },
  {
   "cell_type": "code",
   "execution_count": 78,
   "id": "40fde8fe",
   "metadata": {},
   "outputs": [
    {
     "name": "stdout",
     "output_type": "stream",
     "text": [
      "Yes\n"
     ]
    }
   ],
   "source": [
    "string25=\"Himank4567\"\n",
    "pattern25='[a-zA-z0-9]$'\n",
    "if re.search(pattern25, string25):\n",
    "    print('Yes')\n",
    "else:\n",
    "    print('No')"
   ]
  },
  {
   "cell_type": "code",
   "execution_count": 79,
   "id": "9a14224b",
   "metadata": {},
   "outputs": [
    {
     "name": "stdout",
     "output_type": "stream",
     "text": [
      "No\n"
     ]
    }
   ],
   "source": [
    "string25=\"Himank@\"\n",
    "pattern25='[a-zA-z0-9]$'\n",
    "if re.search(pattern25, string25):\n",
    "    print('Yes')\n",
    "else:\n",
    "    print('No')"
   ]
  },
  {
   "cell_type": "markdown",
   "id": "1f12867c",
   "metadata": {},
   "source": [
    "Question 27-Write a python program using RegEx to extract the hashtags.\n",
    "Sample Text: text = \"\"\"RT @kapil_kausik: #Doltiwal I mean #xyzabc is \"hurt\" by #Demonetization as the same has rendered USELESS <ed><U+00A0><U+00BD><ed><U+00B1><U+0089> \"acquired funds\" No wo\"\"\"\n",
    "Output: ['#Doltiwal', '#xyzabc', '#Demonetization']\n"
   ]
  },
  {
   "cell_type": "code",
   "execution_count": 80,
   "id": "6f039ddb",
   "metadata": {},
   "outputs": [
    {
     "name": "stdout",
     "output_type": "stream",
     "text": [
      "['#Doltiwal', '#xyzabc', '#Demonetization']\n"
     ]
    }
   ],
   "source": [
    "string26=\"\"\"RT @kapil_kausik: #Doltiwal I mean #xyzabc is \"hurt\" by #Demonetization as the same has rendered USELESS <U+00A0><U+00BD><U+00B1><U+0089> \"acquired funds\" No wo\"\"\"\n",
    "pattern26=r'#\\S+'\n",
    "answer6=re.findall(pattern26, string26)\n",
    "print(answer6)"
   ]
  },
  {
   "cell_type": "raw",
   "id": "c21715ae",
   "metadata": {},
   "source": [
    "Question 28- Write a python program using RegEx to remove <U+..> like symbols\n",
    "Check the below sample text, there are strange symbols something of the sort <U+..> all over the place. You need to come up with a general Regex expression that will cover all such symbols.\n",
    "Sample Text: \"@Jags123456 Bharat band on 28??<ed><U+00A0><U+00BD><ed><U+00B8><U+0082>Those who  are protesting #demonetization  are all different party leaders\"\n",
    "Output: @Jags123456 Bharat band on 28??<ed><ed>Those who  are protesting #demonetization  are all different party leaders\n"
   ]
  },
  {
   "cell_type": "code",
   "execution_count": 81,
   "id": "8657dfa8",
   "metadata": {},
   "outputs": [
    {
     "name": "stdout",
     "output_type": "stream",
     "text": [
      "@Jags123456 Bharat band on 28??<ed><ed>Those who are protesting #demonetization are all different party leaders\n"
     ]
    }
   ],
   "source": [
    "string27=\"@Jags123456 Bharat band on 28??<ed><U+00A0><U+00BD><ed><U+00B8><U+0082>Those who are protesting #demonetization are all different party leaders\"\n",
    "pattern27=r\"<U\\+[A-F0-9]{4}>\"\n",
    "answer7=re.sub(pattern27, \"\", string27)\n",
    "print(answer7)"
   ]
  },
  {
   "cell_type": "markdown",
   "id": "4cefc064",
   "metadata": {},
   "source": [
    "Question 29- Write a python program to extract dates from the text stored in the text file.\n",
    "Sample Text: Ron was born on 12-09-1992 and he was admitted to school 15-12-1999.\n",
    "Store this sample text in the file and then extract dates.\n"
   ]
  },
  {
   "cell_type": "code",
   "execution_count": 82,
   "id": "9e030917",
   "metadata": {},
   "outputs": [
    {
     "name": "stdout",
     "output_type": "stream",
     "text": [
      "['12-09-1992', '15-12-1999']\n"
     ]
    }
   ],
   "source": [
    "with open(\"sample1.txt\") as file1:\n",
    "    for string28 in file1:\n",
    "        pattern28=re.findall(\"\\d{2}[-]\\d{2}[-]\\d{4}\", string28)\n",
    "        print(pattern28)"
   ]
  },
  {
   "cell_type": "markdown",
   "id": "8626d014",
   "metadata": {},
   "source": [
    "Question 30- Write a Python program to replace all occurrences of a space, comma, or dot with a colon.\n",
    "Sample Text- 'Python Exercises, PHP exercises.'\n",
    "Output: Python:Exercises::PHP:exercises:\n"
   ]
  },
  {
   "cell_type": "code",
   "execution_count": 83,
   "id": "025bc192",
   "metadata": {},
   "outputs": [
    {
     "name": "stdout",
     "output_type": "stream",
     "text": [
      "Python:Exercises::PHP:exercises:\n"
     ]
    }
   ],
   "source": [
    "string29=\"Python Exercises, PHP exercises.\"\n",
    "pattern29=re.sub('[ ,.]', \":\", string29)\n",
    "print(pattern29)"
   ]
  }
 ],
 "metadata": {
  "kernelspec": {
   "display_name": "Python 3 (ipykernel)",
   "language": "python",
   "name": "python3"
  },
  "language_info": {
   "codemirror_mode": {
    "name": "ipython",
    "version": 3
   },
   "file_extension": ".py",
   "mimetype": "text/x-python",
   "name": "python",
   "nbconvert_exporter": "python",
   "pygments_lexer": "ipython3",
   "version": "3.9.13"
  }
 },
 "nbformat": 4,
 "nbformat_minor": 5
}
